{
 "cells": [
  {
   "cell_type": "code",
   "execution_count": null,
   "id": "f0aa4b0c-6448-4ee0-815a-06c969c1135a",
   "metadata": {
    "editable": false,
    "id": "f0aa4b0c-6448-4ee0-815a-06c969c1135a",
    "slideshow": {
     "slide_type": "slide"
    },
    "tags": []
   },
   "outputs": [],
   "source": [
    "## Foot Traffic Analysis Using Object Detection and Tracking\n",
    "\n",
    "#The goal of this project was to perform foot traffic analysis by counting how\n",
    "#many people enter a shop using computer vision techniques.\n",
    "\n",
    "#For this project, a CCTV video from a passenger counter in a bus was obtained\n",
    "#from Kaggle.com. The focus of the analysis was the bus door, where\n",
    "#foot traffic was monitored as passengers got on board.\n",
    "\n",
    "#To achieve this, the following tools were used:\n",
    "#**OpenCV**: For video processing.\n",
    "#**YOLOv8**: For object detection.\n",
    "#**Ultralytics**: For tracking and integrating the YOLO model.\n",
    "\n",
    "#In this notebook, we will demonstrate the entire process, from video loading\n",
    "#and detection to foot traffic tracking.\n"
   ]
  },
  {
   "cell_type": "code",
   "execution_count": null,
   "id": "a45a1a8f-26ea-4edd-9315-16d8009c8256",
   "metadata": {
    "colab": {
     "base_uri": "https://localhost:8080/"
    },
    "collapsed": true,
    "editable": true,
    "id": "a45a1a8f-26ea-4edd-9315-16d8009c8256",
    "jupyter": {
     "outputs_hidden": true
    },
    "outputId": "86bc96d2-f6b4-4b0d-e4c9-172bb787a6d8",
    "slideshow": {
     "slide_type": "slide"
    },
    "tags": []
   },
   "outputs": [
    {
     "name": "stdout",
     "output_type": "stream",
     "text": [
      "Requirement already satisfied: opencv-python in /usr/local/lib/python3.10/dist-packages (4.10.0.84)\n",
      "Requirement already satisfied: ultralytics in /usr/local/lib/python3.10/dist-packages (8.2.89)\n",
      "Requirement already satisfied: cvzone in /usr/local/lib/python3.10/dist-packages (1.6.1)\n",
      "Requirement already satisfied: numpy>=1.21.2 in /usr/local/lib/python3.10/dist-packages (from opencv-python) (1.26.4)\n",
      "Requirement already satisfied: matplotlib>=3.3.0 in /usr/local/lib/python3.10/dist-packages (from ultralytics) (3.7.1)\n",
      "Requirement already satisfied: pillow>=7.1.2 in /usr/local/lib/python3.10/dist-packages (from ultralytics) (9.4.0)\n",
      "Requirement already satisfied: pyyaml>=5.3.1 in /usr/local/lib/python3.10/dist-packages (from ultralytics) (6.0.2)\n",
      "Requirement already satisfied: requests>=2.23.0 in /usr/local/lib/python3.10/dist-packages (from ultralytics) (2.32.3)\n",
      "Requirement already satisfied: scipy>=1.4.1 in /usr/local/lib/python3.10/dist-packages (from ultralytics) (1.13.1)\n",
      "Requirement already satisfied: torch>=1.8.0 in /usr/local/lib/python3.10/dist-packages (from ultralytics) (2.4.0+cu121)\n",
      "Requirement already satisfied: torchvision>=0.9.0 in /usr/local/lib/python3.10/dist-packages (from ultralytics) (0.19.0+cu121)\n",
      "Requirement already satisfied: tqdm>=4.64.0 in /usr/local/lib/python3.10/dist-packages (from ultralytics) (4.66.5)\n",
      "Requirement already satisfied: psutil in /usr/local/lib/python3.10/dist-packages (from ultralytics) (5.9.5)\n",
      "Requirement already satisfied: py-cpuinfo in /usr/local/lib/python3.10/dist-packages (from ultralytics) (9.0.0)\n",
      "Requirement already satisfied: pandas>=1.1.4 in /usr/local/lib/python3.10/dist-packages (from ultralytics) (2.1.4)\n",
      "Requirement already satisfied: seaborn>=0.11.0 in /usr/local/lib/python3.10/dist-packages (from ultralytics) (0.13.1)\n",
      "Requirement already satisfied: ultralytics-thop>=2.0.0 in /usr/local/lib/python3.10/dist-packages (from ultralytics) (2.0.6)\n",
      "Requirement already satisfied: contourpy>=1.0.1 in /usr/local/lib/python3.10/dist-packages (from matplotlib>=3.3.0->ultralytics) (1.3.0)\n",
      "Requirement already satisfied: cycler>=0.10 in /usr/local/lib/python3.10/dist-packages (from matplotlib>=3.3.0->ultralytics) (0.12.1)\n",
      "Requirement already satisfied: fonttools>=4.22.0 in /usr/local/lib/python3.10/dist-packages (from matplotlib>=3.3.0->ultralytics) (4.53.1)\n",
      "Requirement already satisfied: kiwisolver>=1.0.1 in /usr/local/lib/python3.10/dist-packages (from matplotlib>=3.3.0->ultralytics) (1.4.5)\n",
      "Requirement already satisfied: packaging>=20.0 in /usr/local/lib/python3.10/dist-packages (from matplotlib>=3.3.0->ultralytics) (24.1)\n",
      "Requirement already satisfied: pyparsing>=2.3.1 in /usr/local/lib/python3.10/dist-packages (from matplotlib>=3.3.0->ultralytics) (3.1.4)\n",
      "Requirement already satisfied: python-dateutil>=2.7 in /usr/local/lib/python3.10/dist-packages (from matplotlib>=3.3.0->ultralytics) (2.8.2)\n",
      "Requirement already satisfied: pytz>=2020.1 in /usr/local/lib/python3.10/dist-packages (from pandas>=1.1.4->ultralytics) (2024.1)\n",
      "Requirement already satisfied: tzdata>=2022.1 in /usr/local/lib/python3.10/dist-packages (from pandas>=1.1.4->ultralytics) (2024.1)\n",
      "Requirement already satisfied: charset-normalizer<4,>=2 in /usr/local/lib/python3.10/dist-packages (from requests>=2.23.0->ultralytics) (3.3.2)\n",
      "Requirement already satisfied: idna<4,>=2.5 in /usr/local/lib/python3.10/dist-packages (from requests>=2.23.0->ultralytics) (3.8)\n",
      "Requirement already satisfied: urllib3<3,>=1.21.1 in /usr/local/lib/python3.10/dist-packages (from requests>=2.23.0->ultralytics) (2.0.7)\n",
      "Requirement already satisfied: certifi>=2017.4.17 in /usr/local/lib/python3.10/dist-packages (from requests>=2.23.0->ultralytics) (2024.8.30)\n",
      "Requirement already satisfied: filelock in /usr/local/lib/python3.10/dist-packages (from torch>=1.8.0->ultralytics) (3.15.4)\n",
      "Requirement already satisfied: typing-extensions>=4.8.0 in /usr/local/lib/python3.10/dist-packages (from torch>=1.8.0->ultralytics) (4.12.2)\n",
      "Requirement already satisfied: sympy in /usr/local/lib/python3.10/dist-packages (from torch>=1.8.0->ultralytics) (1.13.2)\n",
      "Requirement already satisfied: networkx in /usr/local/lib/python3.10/dist-packages (from torch>=1.8.0->ultralytics) (3.3)\n",
      "Requirement already satisfied: jinja2 in /usr/local/lib/python3.10/dist-packages (from torch>=1.8.0->ultralytics) (3.1.4)\n",
      "Requirement already satisfied: fsspec in /usr/local/lib/python3.10/dist-packages (from torch>=1.8.0->ultralytics) (2024.6.1)\n",
      "Requirement already satisfied: six>=1.5 in /usr/local/lib/python3.10/dist-packages (from python-dateutil>=2.7->matplotlib>=3.3.0->ultralytics) (1.16.0)\n",
      "Requirement already satisfied: MarkupSafe>=2.0 in /usr/local/lib/python3.10/dist-packages (from jinja2->torch>=1.8.0->ultralytics) (2.1.5)\n",
      "Requirement already satisfied: mpmath<1.4,>=1.1.0 in /usr/local/lib/python3.10/dist-packages (from sympy->torch>=1.8.0->ultralytics) (1.3.0)\n"
     ]
    }
   ],
   "source": [
    "# Install required packages\n",
    "!pip install opencv-python ultralytics cvzone"
   ]
  },
  {
   "cell_type": "code",
   "execution_count": null,
   "id": "c49f4d52-1b3a-46b8-9d3a-26f4d3528e27",
   "metadata": {
    "editable": false,
    "id": "c49f4d52-1b3a-46b8-9d3a-26f4d3528e27",
    "slideshow": {
     "slide_type": "subslide"
    },
    "tags": []
   },
   "outputs": [],
   "source": [
    "### Saving Images from Video\n",
    "\n",
    "#In this step, we will capture 200 images from the provided video (`fdoor.avi`)\n",
    "#for later use in the object detection and tracking process.\n",
    "\n",
    "#We will resize the frames to 1080x500 pixels, display each frame in a window,\n",
    "#and save them to a directory.\n"
   ]
  },
  {
   "cell_type": "code",
   "execution_count": null,
   "id": "01d7d1cc-1188-4416-86b9-b6974ec2f0c3",
   "metadata": {
    "colab": {
     "base_uri": "https://localhost:8080/"
    },
    "editable": false,
    "id": "01d7d1cc-1188-4416-86b9-b6974ec2f0c3",
    "outputId": "14fd95b3-fbfa-4d38-a368-68fb6253c706",
    "slideshow": {
     "slide_type": "fragment"
    },
    "tags": []
   },
   "outputs": [
    {
     "name": "stdout",
     "output_type": "stream",
     "text": [
      "Drive already mounted at /content/drive; to attempt to forcibly remount, call drive.mount(\"/content/drive\", force_remount=True).\n"
     ]
    }
   ],
   "source": [
    "from google.colab import drive\n",
    "drive.mount('/content/drive')"
   ]
  },
  {
   "cell_type": "code",
   "execution_count": null,
   "id": "83ea1f80-69c3-4c53-b156-2599e7fa263f",
   "metadata": {
    "colab": {
     "base_uri": "https://localhost:8080/"
    },
    "collapsed": true,
    "editable": false,
    "id": "83ea1f80-69c3-4c53-b156-2599e7fa263f",
    "jupyter": {
     "outputs_hidden": true
    },
    "outputId": "0189c5c5-3b40-42dd-8f06-91cf7ac07844",
    "scrolled": true,
    "slideshow": {
     "slide_type": "slide"
    },
    "tags": []
   },
   "outputs": [
    {
     "name": "stdout",
     "output_type": "stream",
     "text": [
      "Requirement already satisfied: gdown in /usr/local/lib/python3.10/dist-packages (5.1.0)\n",
      "Requirement already satisfied: beautifulsoup4 in /usr/local/lib/python3.10/dist-packages (from gdown) (4.12.3)\n",
      "Requirement already satisfied: filelock in /usr/local/lib/python3.10/dist-packages (from gdown) (3.15.4)\n",
      "Requirement already satisfied: requests[socks] in /usr/local/lib/python3.10/dist-packages (from gdown) (2.32.3)\n",
      "Requirement already satisfied: tqdm in /usr/local/lib/python3.10/dist-packages (from gdown) (4.66.5)\n",
      "Requirement already satisfied: soupsieve>1.2 in /usr/local/lib/python3.10/dist-packages (from beautifulsoup4->gdown) (2.6)\n",
      "Requirement already satisfied: charset-normalizer<4,>=2 in /usr/local/lib/python3.10/dist-packages (from requests[socks]->gdown) (3.3.2)\n",
      "Requirement already satisfied: idna<4,>=2.5 in /usr/local/lib/python3.10/dist-packages (from requests[socks]->gdown) (3.8)\n",
      "Requirement already satisfied: urllib3<3,>=1.21.1 in /usr/local/lib/python3.10/dist-packages (from requests[socks]->gdown) (2.0.7)\n",
      "Requirement already satisfied: certifi>=2017.4.17 in /usr/local/lib/python3.10/dist-packages (from requests[socks]->gdown) (2024.8.30)\n",
      "Requirement already satisfied: PySocks!=1.5.7,>=1.5.6 in /usr/local/lib/python3.10/dist-packages (from requests[socks]->gdown) (1.7.1)\n",
      "Downloading...\n",
      "From: https://drive.google.com/uc?id=1hJ8RcS3yVwdJtPeIFRQtZBOqa-vWsfBH\n",
      "To: /content/fdoor.avi\n",
      "100% 10.2M/10.2M [00:00<00:00, 19.3MB/s]\n",
      "total 9948\n",
      "drwx------ 5 root root     4096 Sep  7 08:48 drive\n",
      "-rw-r--r-- 1 root root 10176568 Sep  7 08:48 fdoor.avi\n",
      "drwxr-xr-x 1 root root     4096 Sep  5 17:47 sample_data\n"
     ]
    }
   ],
   "source": [
    "#Download fdoor.avi Video from Google Drive\n",
    "# Install gdown\n",
    "!pip install gdown\n",
    "\n",
    "# Use gdown to download the file\n",
    "!gdown https://drive.google.com/uc?id=1hJ8RcS3yVwdJtPeIFRQtZBOqa-vWsfBH\n",
    "\n",
    "# Check if the file has been downloaded\n",
    "!ls -l\n"
   ]
  },
  {
   "cell_type": "code",
   "execution_count": null,
   "id": "bed556a8-89ae-4c13-8800-2bf885453903",
   "metadata": {
    "colab": {
     "base_uri": "https://localhost:8080/"
    },
    "editable": false,
    "id": "bed556a8-89ae-4c13-8800-2bf885453903",
    "outputId": "2a5e699e-61a1-44f0-a04b-b8f94e3a0141",
    "slideshow": {
     "slide_type": "slide"
    },
    "tags": []
   },
   "outputs": [
    {
     "name": "stdout",
     "output_type": "stream",
     "text": [
      "Video file loaded successfully!\n"
     ]
    }
   ],
   "source": [
    "import cv2\n",
    "\n",
    "# Path to the downloaded video file\n",
    "video_path = 'fdoor.avi'\n",
    "\n",
    "# Initialize video capture using OpenCV\n",
    "cap = cv2.VideoCapture(video_path)\n",
    "\n",
    "# Check if the video file is opened correctly\n",
    "if not cap.isOpened():\n",
    "    print(\"Error: Could not open video file.\")\n",
    "else:\n",
    "    print(\"Video file loaded successfully!\")\n"
   ]
  },
  {
   "cell_type": "code",
   "execution_count": null,
   "id": "c2e6f2ef-295b-4da5-aa67-69c50d11d3a2",
   "metadata": {
    "colab": {
     "base_uri": "https://localhost:8080/"
    },
    "editable": false,
    "id": "c2e6f2ef-295b-4da5-aa67-69c50d11d3a2",
    "outputId": "9779863e-6f56-40a2-e4c1-c079927c03d7",
    "slideshow": {
     "slide_type": "slide"
    },
    "tags": []
   },
   "outputs": [
    {
     "name": "stdout",
     "output_type": "stream",
     "text": [
      "Drive already mounted at /content/drive; to attempt to forcibly remount, call drive.mount(\"/content/drive\", force_remount=True).\n",
      "All images have been successfully saved to Google Drive.\n"
     ]
    }
   ],
   "source": [
    "from google.colab import drive\n",
    "drive.mount('/content/drive')\n",
    "\n",
    "import cv2\n",
    "import time\n",
    "\n",
    "# Initialize counters and video capture\n",
    "cpt = 0\n",
    "maxFrames = 200  # Set the maximum number of frames to capture\n",
    "cap = cv2.VideoCapture('fdoor.avi')  # Load the video\n",
    "\n",
    "# Define the directory path in Google Drive\n",
    "save_directory = '/content/drive/My Drive/images/'\n",
    "\n",
    "# Loop through the video and save images\n",
    "while cpt < maxFrames:\n",
    "    ret, frame = cap.read()  # Read each frame\n",
    "    if not ret:\n",
    "        break\n",
    "    frame = cv2.resize(frame, (1080, 500))  # Resize the frame\n",
    "\n",
    "    # Save the frame as an image\n",
    "    cv2.imwrite(f\"{save_directory}person_{cpt}.jpg\", frame)\n",
    "\n",
    "    time.sleep(0.01)  # Add a slight delay to mimic real-time capture\n",
    "    cpt += 1\n",
    "\n",
    "# Release video capture and close all windows\n",
    "cap.release()\n",
    "cv2.destroyAllWindows()\n",
    "\n",
    "print(\"All images have been successfully saved to Google Drive.\")\n"
   ]
  },
  {
   "cell_type": "code",
   "execution_count": null,
   "id": "e98d9f49-96ca-4045-bc39-a508f67b6e30",
   "metadata": {
    "editable": false,
    "id": "e98d9f49-96ca-4045-bc39-a508f67b6e30",
    "slideshow": {
     "slide_type": "slide"
    },
    "tags": []
   },
   "outputs": [],
   "source": [
    "### Install and Launch LabelImg\n",
    "\n",
    "#Next, we will use **LabelImg** to annotate the images. The objective is to\n",
    "#create a \"person\" class for the passengers entering the door and label\n",
    "#their heads and faces as they appear in the video frames.\n",
    "\n",
    "#Steps:\n",
    "#1. Install **LabelImg**.\n",
    "#2. Launch it and create the \"person\" class.\n",
    "#3. Skip all frames where the door is not opened.\n",
    "#4. Draw a rectangle around the head and face of each passenger as they\n",
    "#enter the door, but not fully inside the bus.\n",
    "#5. Save the annotations to the same directory as the images.\n",
    "\n",
    "#The save directory is: '/content/drive/My Drive/images/'\n",
    "#After annotating, we will clean up extra images that do not contain\n",
    "#passengers, using the code in the next step.\n"
   ]
  },
  {
   "cell_type": "code",
   "execution_count": null,
   "id": "ac86f4ad-7b53-4e16-9897-ce01a24b1264",
   "metadata": {
    "colab": {
     "base_uri": "https://localhost:8080/"
    },
    "collapsed": true,
    "editable": false,
    "id": "ac86f4ad-7b53-4e16-9897-ce01a24b1264",
    "jupyter": {
     "outputs_hidden": true
    },
    "outputId": "986d6384-7784-4228-d5b0-204a9ed35c12",
    "scrolled": true,
    "slideshow": {
     "slide_type": "slide"
    },
    "tags": []
   },
   "outputs": [
    {
     "name": "stdout",
     "output_type": "stream",
     "text": [
      "['person_104.txt', 'person_100.txt', 'person_51.txt', 'person_68.txt', 'person_74.txt', 'person_59.txt', 'person_88.txt', 'person_49.txt', 'person_130.txt', 'person_129.txt', 'person_79.txt', 'person_75.txt', 'person_71.txt', 'person_73.txt', 'person_50.txt', 'person_56.txt', 'person_69.txt', 'person_48.txt', 'person_131.txt', 'person_121.txt', 'person_124.txt', 'person_83.txt', 'person_67.txt', 'person_76.txt', 'person_123.txt', 'person_122.txt', 'person_87.txt', 'person_60.txt', 'person_117.txt', 'person_70.txt', 'person_102.txt', 'person_132.txt', 'person_115.txt', 'person_118.txt', 'person_128.txt', 'person_113.txt', 'person_109.txt', 'person_78.txt', 'person_57.txt', 'person_82.txt', 'person_54.txt', 'person_65.txt', 'person_116.txt', 'person_119.txt', 'person_77.txt', 'person_86.txt', 'person_105.txt', 'person_80.txt', 'person_72.txt', 'person_112.txt', 'person_84.txt', 'person_114.txt', 'person_125.txt', 'person_85.txt', 'person_52.txt', 'person_126.txt', 'person_55.txt', 'person_103.txt', 'person_81.txt', 'person_101.txt', 'person_58.txt', 'person_66.txt', 'person_127.txt', 'person_120.txt', 'person_53.txt', 'person_99.txt', 'person_92.txt', 'person_90.txt', 'person_93.txt', 'person_98.txt', 'person_94.txt', 'person_95.txt', 'person_89.txt', 'person_97.txt', 'person_91.txt', 'person_96.txt', 'person_53.jpg', 'person_51.jpg', 'person_50.jpg', 'person_52.jpg', 'person_54.jpg', 'person_49.jpg', 'person_48.jpg', 'person_56.jpg', 'person_55.jpg', 'person_57.jpg', 'person_58.jpg', 'person_59.jpg', 'person_60.jpg', 'person_65.jpg', 'person_66.jpg', 'person_67.jpg', 'person_68.jpg', 'person_69.jpg', 'person_70.jpg', 'person_71.jpg', 'person_72.jpg', 'person_73.jpg', 'person_74.jpg', 'person_75.jpg', 'person_77.jpg', 'person_76.jpg', 'person_79.jpg', 'person_78.jpg', 'person_80.jpg', 'person_81.jpg', 'person_83.jpg', 'person_82.jpg', 'person_84.jpg', 'person_85.jpg', 'person_86.jpg', 'person_88.jpg', 'person_87.jpg', 'person_89.jpg', 'person_91.jpg', 'person_90.jpg', 'person_93.jpg', 'person_92.jpg', 'person_95.jpg', 'person_94.jpg', 'person_97.jpg', 'person_96.jpg', 'person_100.jpg', 'person_98.jpg', 'person_99.jpg', 'person_101.jpg', 'person_104.jpg', 'person_102.jpg', 'person_105.jpg', 'person_103.jpg', 'person_109.jpg', 'person_112.jpg', 'person_113.jpg', 'person_115.jpg', 'person_114.jpg', 'person_116.jpg', 'person_118.jpg', 'person_119.jpg', 'person_120.jpg', 'person_117.jpg', 'person_122.jpg', 'person_121.jpg', 'person_125.jpg', 'person_124.jpg', 'person_123.jpg', 'person_126.jpg', 'person_127.jpg', 'person_129.jpg', 'person_128.jpg', 'person_130.jpg', 'person_132.jpg', 'person_131.jpg', 'person_0.jpg', 'person_1.jpg', 'person_2.jpg', 'person_3.jpg', 'person_4.jpg', 'person_5.jpg', 'person_6.jpg', 'person_7.jpg', 'person_8.jpg', 'person_9.jpg', 'person_10.jpg', 'person_11.jpg', 'person_12.jpg', 'person_13.jpg', 'person_14.jpg', 'person_15.jpg', 'person_16.jpg', 'person_17.jpg', 'person_18.jpg', 'person_19.jpg', 'person_20.jpg', 'person_21.jpg', 'person_22.jpg', 'person_23.jpg', 'person_24.jpg', 'person_25.jpg', 'person_26.jpg', 'person_27.jpg', 'person_28.jpg', 'person_29.jpg', 'person_30.jpg', 'person_31.jpg', 'person_32.jpg', 'person_33.jpg', 'person_34.jpg', 'person_35.jpg', 'person_36.jpg', 'person_37.jpg', 'person_38.jpg', 'person_39.jpg', 'person_40.jpg', 'person_41.jpg', 'person_42.jpg', 'person_43.jpg', 'person_44.jpg', 'person_45.jpg', 'person_46.jpg', 'person_47.jpg', 'person_61.jpg', 'person_62.jpg', 'person_63.jpg', 'person_64.jpg', 'person_106.jpg', 'person_107.jpg', 'person_108.jpg', 'person_110.jpg', 'person_111.jpg', 'person_133.jpg', 'person_134.jpg', 'person_135.jpg', 'person_136.jpg', 'person_137.jpg', 'person_138.jpg', 'person_139.jpg', 'person_140.jpg', 'person_141.jpg', 'person_142.jpg', 'person_143.jpg', 'person_144.jpg', 'person_145.jpg', 'person_146.jpg', 'person_147.jpg', 'person_148.jpg', 'person_149.jpg', 'person_150.jpg', 'person_151.jpg', 'person_152.jpg', 'person_153.jpg', 'person_154.jpg', 'person_155.jpg', 'person_156.jpg', 'person_157.jpg', 'person_158.jpg', 'person_159.jpg', 'person_160.jpg', 'person_161.jpg', 'person_162.jpg', 'person_163.jpg', 'person_164.jpg', 'person_165.jpg', 'person_166.jpg', 'person_167.jpg', 'person_168.jpg', 'person_169.jpg', 'person_170.jpg', 'person_171.jpg', 'person_172.jpg', 'person_173.jpg', 'person_174.jpg', 'person_175.jpg', 'person_176.jpg', 'person_177.jpg', 'person_178.jpg', 'person_179.jpg', 'person_180.jpg', 'person_181.jpg', 'person_182.jpg', 'person_183.jpg', 'person_184.jpg', 'person_185.jpg', 'person_186.jpg', 'person_187.jpg', 'person_188.jpg', 'person_189.jpg', 'person_190.jpg', 'person_191.jpg', 'person_192.jpg', 'person_193.jpg', 'person_194.jpg', 'person_195.jpg', 'person_196.jpg', 'person_197.jpg', 'person_198.jpg', 'person_199.jpg']\n",
      "Deleted person_0.jpg because person_0.txt does not exist.\n",
      "Deleted person_1.jpg because person_1.txt does not exist.\n",
      "Deleted person_2.jpg because person_2.txt does not exist.\n",
      "Deleted person_3.jpg because person_3.txt does not exist.\n",
      "Deleted person_4.jpg because person_4.txt does not exist.\n",
      "Deleted person_5.jpg because person_5.txt does not exist.\n",
      "Deleted person_6.jpg because person_6.txt does not exist.\n",
      "Deleted person_7.jpg because person_7.txt does not exist.\n",
      "Deleted person_8.jpg because person_8.txt does not exist.\n",
      "Deleted person_9.jpg because person_9.txt does not exist.\n",
      "Deleted person_10.jpg because person_10.txt does not exist.\n",
      "Deleted person_11.jpg because person_11.txt does not exist.\n",
      "Deleted person_12.jpg because person_12.txt does not exist.\n",
      "Deleted person_13.jpg because person_13.txt does not exist.\n",
      "Deleted person_14.jpg because person_14.txt does not exist.\n",
      "Deleted person_15.jpg because person_15.txt does not exist.\n",
      "Deleted person_16.jpg because person_16.txt does not exist.\n",
      "Deleted person_17.jpg because person_17.txt does not exist.\n",
      "Deleted person_18.jpg because person_18.txt does not exist.\n",
      "Deleted person_19.jpg because person_19.txt does not exist.\n",
      "Deleted person_20.jpg because person_20.txt does not exist.\n",
      "Deleted person_21.jpg because person_21.txt does not exist.\n",
      "Deleted person_22.jpg because person_22.txt does not exist.\n",
      "Deleted person_23.jpg because person_23.txt does not exist.\n",
      "Deleted person_24.jpg because person_24.txt does not exist.\n",
      "Deleted person_25.jpg because person_25.txt does not exist.\n",
      "Deleted person_26.jpg because person_26.txt does not exist.\n",
      "Deleted person_27.jpg because person_27.txt does not exist.\n",
      "Deleted person_28.jpg because person_28.txt does not exist.\n",
      "Deleted person_29.jpg because person_29.txt does not exist.\n",
      "Deleted person_30.jpg because person_30.txt does not exist.\n",
      "Deleted person_31.jpg because person_31.txt does not exist.\n",
      "Deleted person_32.jpg because person_32.txt does not exist.\n",
      "Deleted person_33.jpg because person_33.txt does not exist.\n",
      "Deleted person_34.jpg because person_34.txt does not exist.\n",
      "Deleted person_35.jpg because person_35.txt does not exist.\n",
      "Deleted person_36.jpg because person_36.txt does not exist.\n",
      "Deleted person_37.jpg because person_37.txt does not exist.\n",
      "Deleted person_38.jpg because person_38.txt does not exist.\n",
      "Deleted person_39.jpg because person_39.txt does not exist.\n",
      "Deleted person_40.jpg because person_40.txt does not exist.\n",
      "Deleted person_41.jpg because person_41.txt does not exist.\n",
      "Deleted person_42.jpg because person_42.txt does not exist.\n",
      "Deleted person_43.jpg because person_43.txt does not exist.\n",
      "Deleted person_44.jpg because person_44.txt does not exist.\n",
      "Deleted person_45.jpg because person_45.txt does not exist.\n",
      "Deleted person_46.jpg because person_46.txt does not exist.\n",
      "Deleted person_47.jpg because person_47.txt does not exist.\n",
      "Deleted person_61.jpg because person_61.txt does not exist.\n",
      "Deleted person_62.jpg because person_62.txt does not exist.\n",
      "Deleted person_63.jpg because person_63.txt does not exist.\n",
      "Deleted person_64.jpg because person_64.txt does not exist.\n",
      "Deleted person_106.jpg because person_106.txt does not exist.\n",
      "Deleted person_107.jpg because person_107.txt does not exist.\n",
      "Deleted person_108.jpg because person_108.txt does not exist.\n",
      "Deleted person_110.jpg because person_110.txt does not exist.\n",
      "Deleted person_111.jpg because person_111.txt does not exist.\n",
      "Deleted person_133.jpg because person_133.txt does not exist.\n",
      "Deleted person_134.jpg because person_134.txt does not exist.\n",
      "Deleted person_135.jpg because person_135.txt does not exist.\n",
      "Deleted person_136.jpg because person_136.txt does not exist.\n",
      "Deleted person_137.jpg because person_137.txt does not exist.\n",
      "Deleted person_138.jpg because person_138.txt does not exist.\n",
      "Deleted person_139.jpg because person_139.txt does not exist.\n",
      "Deleted person_140.jpg because person_140.txt does not exist.\n",
      "Deleted person_141.jpg because person_141.txt does not exist.\n",
      "Deleted person_142.jpg because person_142.txt does not exist.\n",
      "Deleted person_143.jpg because person_143.txt does not exist.\n",
      "Deleted person_144.jpg because person_144.txt does not exist.\n",
      "Deleted person_145.jpg because person_145.txt does not exist.\n",
      "Deleted person_146.jpg because person_146.txt does not exist.\n",
      "Deleted person_147.jpg because person_147.txt does not exist.\n",
      "Deleted person_148.jpg because person_148.txt does not exist.\n",
      "Deleted person_149.jpg because person_149.txt does not exist.\n",
      "Deleted person_150.jpg because person_150.txt does not exist.\n",
      "Deleted person_151.jpg because person_151.txt does not exist.\n",
      "Deleted person_152.jpg because person_152.txt does not exist.\n",
      "Deleted person_153.jpg because person_153.txt does not exist.\n",
      "Deleted person_154.jpg because person_154.txt does not exist.\n",
      "Deleted person_155.jpg because person_155.txt does not exist.\n",
      "Deleted person_156.jpg because person_156.txt does not exist.\n",
      "Deleted person_157.jpg because person_157.txt does not exist.\n",
      "Deleted person_158.jpg because person_158.txt does not exist.\n",
      "Deleted person_159.jpg because person_159.txt does not exist.\n",
      "Deleted person_160.jpg because person_160.txt does not exist.\n",
      "Deleted person_161.jpg because person_161.txt does not exist.\n",
      "Deleted person_162.jpg because person_162.txt does not exist.\n",
      "Deleted person_163.jpg because person_163.txt does not exist.\n",
      "Deleted person_164.jpg because person_164.txt does not exist.\n",
      "Deleted person_165.jpg because person_165.txt does not exist.\n",
      "Deleted person_166.jpg because person_166.txt does not exist.\n",
      "Deleted person_167.jpg because person_167.txt does not exist.\n",
      "Deleted person_168.jpg because person_168.txt does not exist.\n",
      "Deleted person_169.jpg because person_169.txt does not exist.\n",
      "Deleted person_170.jpg because person_170.txt does not exist.\n",
      "Deleted person_171.jpg because person_171.txt does not exist.\n",
      "Deleted person_172.jpg because person_172.txt does not exist.\n",
      "Deleted person_173.jpg because person_173.txt does not exist.\n",
      "Deleted person_174.jpg because person_174.txt does not exist.\n",
      "Deleted person_175.jpg because person_175.txt does not exist.\n",
      "Deleted person_176.jpg because person_176.txt does not exist.\n",
      "Deleted person_177.jpg because person_177.txt does not exist.\n",
      "Deleted person_178.jpg because person_178.txt does not exist.\n",
      "Deleted person_179.jpg because person_179.txt does not exist.\n",
      "Deleted person_180.jpg because person_180.txt does not exist.\n",
      "Deleted person_181.jpg because person_181.txt does not exist.\n",
      "Deleted person_182.jpg because person_182.txt does not exist.\n",
      "Deleted person_183.jpg because person_183.txt does not exist.\n",
      "Deleted person_184.jpg because person_184.txt does not exist.\n",
      "Deleted person_185.jpg because person_185.txt does not exist.\n",
      "Deleted person_186.jpg because person_186.txt does not exist.\n",
      "Deleted person_187.jpg because person_187.txt does not exist.\n",
      "Deleted person_188.jpg because person_188.txt does not exist.\n",
      "Deleted person_189.jpg because person_189.txt does not exist.\n",
      "Deleted person_190.jpg because person_190.txt does not exist.\n",
      "Deleted person_191.jpg because person_191.txt does not exist.\n",
      "Deleted person_192.jpg because person_192.txt does not exist.\n",
      "Deleted person_193.jpg because person_193.txt does not exist.\n",
      "Deleted person_194.jpg because person_194.txt does not exist.\n",
      "Deleted person_195.jpg because person_195.txt does not exist.\n",
      "Deleted person_196.jpg because person_196.txt does not exist.\n",
      "Deleted person_197.jpg because person_197.txt does not exist.\n",
      "Deleted person_198.jpg because person_198.txt does not exist.\n",
      "Deleted person_199.jpg because person_199.txt does not exist.\n"
     ]
    }
   ],
   "source": [
    "# Define the image directory path\n",
    "import os\n",
    "\n",
    "# Path to your images directory\n",
    "images_dir = '/content/drive/MyDrive/images'\n",
    "\n",
    "# List all image files in the directory\n",
    "image_files = os.listdir(images_dir)\n",
    "print(image_files)\n",
    "\n",
    "# Get a list of image files in the directory\n",
    "image_files = [f for f in os.listdir(images_dir) if os.path.isfile(os.path.join(images_dir, f)) and f.lower().endswith(('.png', '.jpg', '.jpeg', '.gif', '.bmp'))]\n",
    "\n",
    "# Iterate through the image files\n",
    "for image_file in image_files:\n",
    "    # Extract the image name without extension\n",
    "    image_name = os.path.splitext(image_file)[0]\n",
    "    # Look for a corresponding .xml annotation file\n",
    "    txt_file = image_name + \".txt\"\n",
    "\n",
    "    # If the .txt file doesn't exist, delete the image\n",
    "    if not os.path.exists(os.path.join(images_dir, txt_file)):\n",
    "        os.remove(os.path.join(images_dir, image_file))\n",
    "        print(f\"Deleted {image_file} because {txt_file} does not exist.\")\n"
   ]
  },
  {
   "cell_type": "code",
   "execution_count": null,
   "id": "230d3914-4dd8-4c4f-8460-adaf6b43e757",
   "metadata": {
    "editable": false,
    "id": "230d3914-4dd8-4c4f-8460-adaf6b43e757",
    "slideshow": {
     "slide_type": "subslide"
    },
    "tags": []
   },
   "outputs": [],
   "source": [
    "### Organize and Prepare Data\n",
    "\n",
    "#To prepare the data for training and validation, we will organize\n",
    "#the images and annotations into the following folder structure:\n",
    "\n",
    "# [**foottraffic/**]\n",
    "#   (**images/**){**validation/**}, { **training/**}\n",
    "#  (**labels/**){**validation/**}, { **training/**}\n",
    "\n",
    "\n",
    "#Copy the images and their corresponding `.txt` annotation files into\n",
    "#the appropriate validation and training folders. After organizing the\n",
    "#files, we will zip the `foottraffic` folder for uploading.\n",
    "\n",
    "#The next cell will handle the folder creation and file copying.\n"
   ]
  },
  {
   "cell_type": "code",
   "execution_count": null,
   "id": "e889af41-e9b6-4484-96cd-62046fdeb64c",
   "metadata": {
    "colab": {
     "base_uri": "https://localhost:8080/"
    },
    "editable": false,
    "id": "e889af41-e9b6-4484-96cd-62046fdeb64c",
    "outputId": "4200d4e9-ffc6-413c-f0ba-b4a76216cdda",
    "slideshow": {
     "slide_type": "slide"
    },
    "tags": []
   },
   "outputs": [
    {
     "name": "stdout",
     "output_type": "stream",
     "text": [
      "Zipping complete: foottraffic1.zip created.\n"
     ]
    }
   ],
   "source": [
    "import os\n",
    "import shutil\n",
    "\n",
    "# Define the root directory for the new folder structure\n",
    "root_dir = 'foottraffic1'\n",
    "image_dir = os.path.join(root_dir, 'images')\n",
    "label_dir = os.path.join(root_dir, 'labels')\n",
    "\n",
    "# Create the directory structure\n",
    "for folder in [image_dir, label_dir]:\n",
    "    os.makedirs(os.path.join(folder, 'validation'), exist_ok=True)\n",
    "    os.makedirs(os.path.join(folder, 'training'), exist_ok=True)\n",
    "\n",
    "# Define the original images and labels directory (same directory in your case)\n",
    "original_dir = '/content/drive/MyDrive/images'\n",
    "\n",
    "# Copy all images and labels to both training and validation folders\n",
    "def copy_files(src_dir, dest_image_dir, dest_label_dir):\n",
    "    for file_name in os.listdir(src_dir):\n",
    "        src_file = os.path.join(src_dir, file_name)\n",
    "        if os.path.isfile(src_file):\n",
    "            # Copy the file to both training and validation subfolders\n",
    "            for subfolder in ['training', 'validation']:\n",
    "                if file_name.lower().endswith(('.png', '.jpg', '.jpeg', '.gif', '.bmp')):\n",
    "                    shutil.copy(src_file, os.path.join(dest_image_dir, subfolder, file_name))\n",
    "                elif file_name.lower().endswith('.txt'):\n",
    "                    shutil.copy(src_file, os.path.join(dest_label_dir, subfolder, file_name))\n",
    "\n",
    "# Copy images and labels into the new folder structure\n",
    "copy_files(original_dir, image_dir, label_dir)\n",
    "\n",
    "# Zip the foottraffic1 folder\n",
    "shutil.make_archive('foottraffic1', 'zip', root_dir)\n",
    "\n",
    "print(\"Zipping complete: foottraffic1.zip created.\")\n"
   ]
  },
  {
   "cell_type": "code",
   "execution_count": null,
   "id": "4a057740-4ee1-4798-8352-2114cbf4c81d",
   "metadata": {
    "colab": {
     "base_uri": "https://localhost:8080/"
    },
    "editable": false,
    "id": "4a057740-4ee1-4798-8352-2114cbf4c81d",
    "outputId": "2a1b0273-d2ee-49ef-eb1d-883abebac9d8",
    "slideshow": {
     "slide_type": "subslide"
    },
    "tags": []
   },
   "outputs": [
    {
     "name": "stdout",
     "output_type": "stream",
     "text": [
      "Zipping complete and file uploaded to Google Drive: foottraffic1.zip.\n"
     ]
    }
   ],
   "source": [
    "### Upload the ZIP File to Google Drive\n",
    "\n",
    "#The zip file of the `foottraffic` folder has been created. You can upload this\n",
    "#file to Google Drive for easy sharing and access.\n",
    "\n",
    "# Move the zip file to Google Drive\n",
    "shutil.move('foottraffic1.zip', '/content/drive/MyDrive/foottraffic1.zip')\n",
    "\n",
    "print(\"Zipping complete and file uploaded to Google Drive: foottraffic1.zip.\")"
   ]
  },
  {
   "cell_type": "code",
   "execution_count": null,
   "id": "83e2b977-b9d6-4251-9b52-74d41fbfef4b",
   "metadata": {
    "colab": {
     "base_uri": "https://localhost:8080/",
     "height": 34
    },
    "editable": true,
    "id": "83e2b977-b9d6-4251-9b52-74d41fbfef4b",
    "outputId": "41e859dd-e21f-4250-9fe9-60e67742a83c",
    "slideshow": {
     "slide_type": "subslide"
    },
    "tags": []
   },
   "outputs": [
    {
     "data": {
      "text/html": [
       "<a href=\"https://colab.research.google.com/drive/1WljA5ADBqSd_YeOhw4iPvN1tb6fAgd8r?usp=sharing\" target=\"_blank\">Open the Colab Notebook</a>"
      ],
      "text/plain": [
       "<IPython.core.display.HTML object>"
      ]
     },
     "metadata": {},
     "output_type": "display_data"
    }
   ],
   "source": [
    "### Access the Essential Colab Notebook\n",
    "\n",
    "#You can access the Colab notebook that contains the YOLOv8 model code and\n",
    "#configurations necessary for this project. Feel free to run, modify, and adapt\n",
    "#the notebook as needed.\n",
    "\n",
    "from IPython.display import display, HTML\n",
    "\n",
    "# Display the link as HTML in a code cell\n",
    "display(HTML('<a href=\"https://colab.research.google.com/drive/1WljA5ADBqSd_YeOhw4iPvN1tb6fAgd8r?usp=sharing\" target=\"_blank\">Open the Colab Notebook</a>'))\n",
    "\n"
   ]
  },
  {
   "cell_type": "code",
   "execution_count": null,
   "id": "b05d8571-5aae-4c87-9148-9cf687d081e3",
   "metadata": {
    "colab": {
     "base_uri": "https://localhost:8080/"
    },
    "editable": false,
    "id": "b05d8571-5aae-4c87-9148-9cf687d081e3",
    "outputId": "85dc1aba-72ea-4ca3-9fad-a928b06a9576",
    "slideshow": {
     "slide_type": "slide"
    },
    "tags": []
   },
   "outputs": [
    {
     "name": "stdout",
     "output_type": "stream",
     "text": [
      "data.yaml file created successfully!\n",
      "data.yaml file successfully uploaded to Google Drive!\n"
     ]
    }
   ],
   "source": [
    "### Create `data.yaml` File and Train the Model\n",
    "\n",
    "#After mounting Google Drive in the Colab notebook, we need to create a `data.yaml` \n",
    "#file in the `foottraffic` folder. This file will contain the configuration for \n",
    "#training, including paths to training and validation data, number of classes, and class names.\n",
    "\n",
    "#We will then proceed to run the YOLOv8 training process using the provided Colab notebook.\n",
    "\n",
    "#The `data.yaml` file will have the following content:\n",
    "# Create the data.yaml file\n",
    "data_yaml_content = \"\"\"\\\n",
    "train: ../foottraffic/images/training\n",
    "val: ../foottraffic/images/validation\n",
    "# number of classes\n",
    "nc: 1\n",
    "# class names\n",
    "names: ['person']\n",
    "\"\"\"\n",
    "\n",
    "# Define the path for the data.yaml file\n",
    "yaml_file_path = '/content/data.yaml'\n",
    "\n",
    "# Write the content to the file\n",
    "with open(yaml_file_path, 'w') as file:\n",
    "    file.write(data_yaml_content)\n",
    "\n",
    "print(\"data.yaml file created successfully!\")\n",
    "\n",
    "# Copy the data.yaml file to Google Drive\n",
    "shutil.copy(yaml_file_path, '/content/drive/MyDrive/data.yaml')\n",
    "\n",
    "print(\"data.yaml file successfully uploaded to Google Drive!\")\n"
   ]
  },
  {
   "cell_type": "code",
   "execution_count": null,
   "id": "82b5de13-84ed-4a57-92ec-62a20a5c83a5",
   "metadata": {
    "colab": {
     "base_uri": "https://localhost:8080/",
     "height": 128
    },
    "editable": false,
    "id": "82b5de13-84ed-4a57-92ec-62a20a5c83a5",
    "outputId": "244c597e-dac1-43e2-dbea-72890e0f2542",
    "slideshow": {
     "slide_type": "slide"
    },
    "tags": []
   },
   "outputs": [
    {
     "data": {
      "text/html": [
       "\n",
       "     <input type=\"file\" id=\"files-c4f821cb-d608-4ee6-bc04-9ac94706994f\" name=\"files[]\" multiple disabled\n",
       "        style=\"border:none\" />\n",
       "     <output id=\"result-c4f821cb-d608-4ee6-bc04-9ac94706994f\">\n",
       "      Upload widget is only available when the cell has been executed in the\n",
       "      current browser session. Please rerun this cell to enable.\n",
       "      </output>\n",
       "      <script>// Copyright 2017 Google LLC\n",
       "//\n",
       "// Licensed under the Apache License, Version 2.0 (the \"License\");\n",
       "// you may not use this file except in compliance with the License.\n",
       "// You may obtain a copy of the License at\n",
       "//\n",
       "//      http://www.apache.org/licenses/LICENSE-2.0\n",
       "//\n",
       "// Unless required by applicable law or agreed to in writing, software\n",
       "// distributed under the License is distributed on an \"AS IS\" BASIS,\n",
       "// WITHOUT WARRANTIES OR CONDITIONS OF ANY KIND, either express or implied.\n",
       "// See the License for the specific language governing permissions and\n",
       "// limitations under the License.\n",
       "\n",
       "/**\n",
       " * @fileoverview Helpers for google.colab Python module.\n",
       " */\n",
       "(function(scope) {\n",
       "function span(text, styleAttributes = {}) {\n",
       "  const element = document.createElement('span');\n",
       "  element.textContent = text;\n",
       "  for (const key of Object.keys(styleAttributes)) {\n",
       "    element.style[key] = styleAttributes[key];\n",
       "  }\n",
       "  return element;\n",
       "}\n",
       "\n",
       "// Max number of bytes which will be uploaded at a time.\n",
       "const MAX_PAYLOAD_SIZE = 100 * 1024;\n",
       "\n",
       "function _uploadFiles(inputId, outputId) {\n",
       "  const steps = uploadFilesStep(inputId, outputId);\n",
       "  const outputElement = document.getElementById(outputId);\n",
       "  // Cache steps on the outputElement to make it available for the next call\n",
       "  // to uploadFilesContinue from Python.\n",
       "  outputElement.steps = steps;\n",
       "\n",
       "  return _uploadFilesContinue(outputId);\n",
       "}\n",
       "\n",
       "// This is roughly an async generator (not supported in the browser yet),\n",
       "// where there are multiple asynchronous steps and the Python side is going\n",
       "// to poll for completion of each step.\n",
       "// This uses a Promise to block the python side on completion of each step,\n",
       "// then passes the result of the previous step as the input to the next step.\n",
       "function _uploadFilesContinue(outputId) {\n",
       "  const outputElement = document.getElementById(outputId);\n",
       "  const steps = outputElement.steps;\n",
       "\n",
       "  const next = steps.next(outputElement.lastPromiseValue);\n",
       "  return Promise.resolve(next.value.promise).then((value) => {\n",
       "    // Cache the last promise value to make it available to the next\n",
       "    // step of the generator.\n",
       "    outputElement.lastPromiseValue = value;\n",
       "    return next.value.response;\n",
       "  });\n",
       "}\n",
       "\n",
       "/**\n",
       " * Generator function which is called between each async step of the upload\n",
       " * process.\n",
       " * @param {string} inputId Element ID of the input file picker element.\n",
       " * @param {string} outputId Element ID of the output display.\n",
       " * @return {!Iterable<!Object>} Iterable of next steps.\n",
       " */\n",
       "function* uploadFilesStep(inputId, outputId) {\n",
       "  const inputElement = document.getElementById(inputId);\n",
       "  inputElement.disabled = false;\n",
       "\n",
       "  const outputElement = document.getElementById(outputId);\n",
       "  outputElement.innerHTML = '';\n",
       "\n",
       "  const pickedPromise = new Promise((resolve) => {\n",
       "    inputElement.addEventListener('change', (e) => {\n",
       "      resolve(e.target.files);\n",
       "    });\n",
       "  });\n",
       "\n",
       "  const cancel = document.createElement('button');\n",
       "  inputElement.parentElement.appendChild(cancel);\n",
       "  cancel.textContent = 'Cancel upload';\n",
       "  const cancelPromise = new Promise((resolve) => {\n",
       "    cancel.onclick = () => {\n",
       "      resolve(null);\n",
       "    };\n",
       "  });\n",
       "\n",
       "  // Wait for the user to pick the files.\n",
       "  const files = yield {\n",
       "    promise: Promise.race([pickedPromise, cancelPromise]),\n",
       "    response: {\n",
       "      action: 'starting',\n",
       "    }\n",
       "  };\n",
       "\n",
       "  cancel.remove();\n",
       "\n",
       "  // Disable the input element since further picks are not allowed.\n",
       "  inputElement.disabled = true;\n",
       "\n",
       "  if (!files) {\n",
       "    return {\n",
       "      response: {\n",
       "        action: 'complete',\n",
       "      }\n",
       "    };\n",
       "  }\n",
       "\n",
       "  for (const file of files) {\n",
       "    const li = document.createElement('li');\n",
       "    li.append(span(file.name, {fontWeight: 'bold'}));\n",
       "    li.append(span(\n",
       "        `(${file.type || 'n/a'}) - ${file.size} bytes, ` +\n",
       "        `last modified: ${\n",
       "            file.lastModifiedDate ? file.lastModifiedDate.toLocaleDateString() :\n",
       "                                    'n/a'} - `));\n",
       "    const percent = span('0% done');\n",
       "    li.appendChild(percent);\n",
       "\n",
       "    outputElement.appendChild(li);\n",
       "\n",
       "    const fileDataPromise = new Promise((resolve) => {\n",
       "      const reader = new FileReader();\n",
       "      reader.onload = (e) => {\n",
       "        resolve(e.target.result);\n",
       "      };\n",
       "      reader.readAsArrayBuffer(file);\n",
       "    });\n",
       "    // Wait for the data to be ready.\n",
       "    let fileData = yield {\n",
       "      promise: fileDataPromise,\n",
       "      response: {\n",
       "        action: 'continue',\n",
       "      }\n",
       "    };\n",
       "\n",
       "    // Use a chunked sending to avoid message size limits. See b/62115660.\n",
       "    let position = 0;\n",
       "    do {\n",
       "      const length = Math.min(fileData.byteLength - position, MAX_PAYLOAD_SIZE);\n",
       "      const chunk = new Uint8Array(fileData, position, length);\n",
       "      position += length;\n",
       "\n",
       "      const base64 = btoa(String.fromCharCode.apply(null, chunk));\n",
       "      yield {\n",
       "        response: {\n",
       "          action: 'append',\n",
       "          file: file.name,\n",
       "          data: base64,\n",
       "        },\n",
       "      };\n",
       "\n",
       "      let percentDone = fileData.byteLength === 0 ?\n",
       "          100 :\n",
       "          Math.round((position / fileData.byteLength) * 100);\n",
       "      percent.textContent = `${percentDone}% done`;\n",
       "\n",
       "    } while (position < fileData.byteLength);\n",
       "  }\n",
       "\n",
       "  // All done.\n",
       "  yield {\n",
       "    response: {\n",
       "      action: 'complete',\n",
       "    }\n",
       "  };\n",
       "}\n",
       "\n",
       "scope.google = scope.google || {};\n",
       "scope.google.colab = scope.google.colab || {};\n",
       "scope.google.colab._files = {\n",
       "  _uploadFiles,\n",
       "  _uploadFilesContinue,\n",
       "};\n",
       "})(self);\n",
       "</script> "
      ],
      "text/plain": [
       "<IPython.core.display.HTML object>"
      ]
     },
     "metadata": {},
     "output_type": "display_data"
    },
    {
     "name": "stdout",
     "output_type": "stream",
     "text": [
      "Saving best.pt to best.pt\n",
      "Uploaded files: ['.config', 'best.pt', 'coco1.txt', 'foottraffic1', 'foottraffic1.zip', 'fdoor.avi', 'drive', 'data.yaml', 'sample_data']\n",
      "Drive already mounted at /content/drive; to attempt to forcibly remount, call drive.mount(\"/content/drive\", force_remount=True).\n",
      "best.pt file successfully uploaded to Google Drive!\n"
     ]
    }
   ],
   "source": [
    "### Run YOLOv8 Training and Download the Best Model\n",
    "\n",
    "#From the YOLOv8 training using the Colab notebook, locate the `best.pt` model\n",
    "#in the `runs/detect/train` directory and download it.\n",
    "\n",
    "#Once the model training is complete, download the `best.pt` file to use for\n",
    "#object detection.\n",
    "\n",
    "from google.colab import files\n",
    "from google.colab import drive\n",
    "\n",
    "# Step 1: Manually upload the file from your local machine\n",
    "uploaded = files.upload()\n",
    "\n",
    "# The file is now available in the Colab environment under /content/\n",
    "# Check uploaded files\n",
    "print(\"Uploaded files:\", os.listdir('/content'))\n",
    "\n",
    "# Define the path to the uploaded 'best.pt' file\n",
    "uploaded_file_path = '/content/best.pt'  # Adjust the name if different\n",
    "\n",
    "# Step 2: Mount Google Drive\n",
    "drive.mount('/content/drive')\n",
    "\n",
    "# Define the destination path in your Google Drive\n",
    "destination_path = '/content/drive/MyDrive/best.pt'  # Modify this path if needed\n",
    "\n",
    "# Move the file to Google Drive\n",
    "shutil.move(uploaded_file_path, destination_path)\n",
    "\n",
    "print(f\"best.pt file successfully uploaded to Google Drive!\")\n",
    "\n"
   ]
  },
  {
   "cell_type": "code",
   "execution_count": null,
   "id": "37948fc5-2d76-4e6d-bf8f-fe2858bb5d5d",
   "metadata": {
    "colab": {
     "base_uri": "https://localhost:8080/"
    },
    "editable": false,
    "id": "37948fc5-2d76-4e6d-bf8f-fe2858bb5d5d",
    "outputId": "fba6ae67-d5a3-4b72-f5ce-a15392b14c84",
    "slideshow": {
     "slide_type": "slide"
    },
    "tags": []
   },
   "outputs": [
    {
     "name": "stdout",
     "output_type": "stream",
     "text": [
      "coco1.txt file created successfully with content 'person'!\n",
      "coco1.txt file successfully uploaded to Google Drive!\n"
     ]
    }
   ],
   "source": [
    "# Define the content for coco1.txt\n",
    "coco_txt_content = \"person\"  # The class used for tracking (passengers)\n",
    "\n",
    "# Define the path where the coco1.txt file will be created locally\n",
    "coco_txt_path = '/content/coco1.txt'\n",
    "\n",
    "# Write the content (\"person\") to the coco1.txt file\n",
    "with open(coco_txt_path, 'w') as file:\n",
    "    file.write(coco_txt_content)\n",
    "\n",
    "print(\"coco1.txt file created successfully with content 'person'!\")\n",
    "\n",
    "# Define the destination folder in Google Drive\n",
    "destination_path = '/content/drive/MyDrive/coco1.txt'  # Modify the path if needed\n",
    "\n",
    "# Move the coco1.txt file to Google Drive\n",
    "shutil.move(coco_txt_path, destination_path)\n",
    "\n",
    "print(f\"coco1.txt file successfully uploaded to Google Drive!\")"
   ]
  },
  {
   "cell_type": "code",
   "execution_count": null,
   "id": "21ec380a-9944-49c6-864a-ed935ea96897",
   "metadata": {
    "editable": false,
    "id": "21ec380a-9944-49c6-864a-ed935ea96897",
    "slideshow": {
     "slide_type": "subslide"
    },
    "tags": []
   },
   "outputs": [],
   "source": [
    "#Analyze Video with YOLOv8 Model\n",
    "### Foot Traffic Detection with `test.py`\n",
    "\n",
    "#The `test.py` script integrates YOLOv8 for object detection and tracking. \n",
    "#It detects passengers entering the bus through a designated zone and counts \n",
    "#them using unique IDs.\n",
    "\n",
    "#This script performs the following:\n",
    "#1. Loads the trained YOLOv8 model (`best.pt`).\n",
    "#2. Tracks objects and detects when they cross a defined zone.\n",
    "#3. Counts the number of passengers entering the bus.\n"
   ]
  },
  {
   "cell_type": "code",
   "execution_count": null,
   "id": "7LRGQIuAC6Rk",
   "metadata": {
    "colab": {
     "base_uri": "https://localhost:8080/",
     "height": 110
    },
    "collapsed": true,
    "editable": false,
    "id": "7LRGQIuAC6Rk",
    "jupyter": {
     "outputs_hidden": true
    },
    "outputId": "bd5b3d9f-7bc4-437c-d8f5-19683708ee90",
    "slideshow": {
     "slide_type": "subslide"
    },
    "tags": []
   },
   "outputs": [
    {
     "ename": "SyntaxError",
     "evalue": "invalid decimal literal (<ipython-input-5-899c3d967ad7>, line 5)",
     "output_type": "error",
     "traceback": [
      "\u001b[0;36m  File \u001b[0;32m\"<ipython-input-5-899c3d967ad7>\"\u001b[0;36m, line \u001b[0;32m5\u001b[0m\n\u001b[0;31m    [Download test.py](https://drive.google.com/uc?id=1kyNTZF5nGq5-1ENNECAlgvoaWxDbNZT1&export=download)\u001b[0m\n\u001b[0m                                                      ^\u001b[0m\n\u001b[0;31mSyntaxError\u001b[0m\u001b[0;31m:\u001b[0m invalid decimal literal\n"
     ]
    }
   ],
   "source": [
    "## Analyze the Video\n",
    "\n",
    "#Click the link below to download the `test.py` code. After downloading, \n",
    "#open the file using your preferred IDE or platform:\n",
    "\n",
    "#[Download test.py]\n",
    "(https://drive.google.com/uc?id=1kyNTZF5nGq5-1ENNECAlgvoaWxDbNZT1&export=download)\n",
    "\n",
    "### Instructions\n",
    "\n",
    "#1. Download the file from the link above.\n",
    "#2. Open the `test.py` file using your preferred IDE preferably Thonny.\n",
    "#3. Open the video file in the same IDE or a video player to analyze it.\n",
    "\n",
    "#Feel free to reach out if you have any questions or need further assistance. KihoroBrian.\n"
   ]
  },
  {
   "cell_type": "code",
   "execution_count": 12,
   "id": "ALIHU_QiLXUM",
   "metadata": {
    "colab": {
     "base_uri": "https://localhost:8080/",
     "height": 74
    },
    "editable": false,
    "id": "ALIHU_QiLXUM",
    "outputId": "e45c5baa-463d-4f4c-9a9f-7d07940606c7",
    "slideshow": {
     "slide_type": "subslide"
    },
    "tags": []
   },
   "outputs": [
    {
     "data": {
      "text/html": [
       "\n",
       "     <input type=\"file\" id=\"files-87216666-8f91-40b1-bc64-995cfe3bdd11\" name=\"files[]\" multiple disabled\n",
       "        style=\"border:none\" />\n",
       "     <output id=\"result-87216666-8f91-40b1-bc64-995cfe3bdd11\">\n",
       "      Upload widget is only available when the cell has been executed in the\n",
       "      current browser session. Please rerun this cell to enable.\n",
       "      </output>\n",
       "      <script>// Copyright 2017 Google LLC\n",
       "//\n",
       "// Licensed under the Apache License, Version 2.0 (the \"License\");\n",
       "// you may not use this file except in compliance with the License.\n",
       "// You may obtain a copy of the License at\n",
       "//\n",
       "//      http://www.apache.org/licenses/LICENSE-2.0\n",
       "//\n",
       "// Unless required by applicable law or agreed to in writing, software\n",
       "// distributed under the License is distributed on an \"AS IS\" BASIS,\n",
       "// WITHOUT WARRANTIES OR CONDITIONS OF ANY KIND, either express or implied.\n",
       "// See the License for the specific language governing permissions and\n",
       "// limitations under the License.\n",
       "\n",
       "/**\n",
       " * @fileoverview Helpers for google.colab Python module.\n",
       " */\n",
       "(function(scope) {\n",
       "function span(text, styleAttributes = {}) {\n",
       "  const element = document.createElement('span');\n",
       "  element.textContent = text;\n",
       "  for (const key of Object.keys(styleAttributes)) {\n",
       "    element.style[key] = styleAttributes[key];\n",
       "  }\n",
       "  return element;\n",
       "}\n",
       "\n",
       "// Max number of bytes which will be uploaded at a time.\n",
       "const MAX_PAYLOAD_SIZE = 100 * 1024;\n",
       "\n",
       "function _uploadFiles(inputId, outputId) {\n",
       "  const steps = uploadFilesStep(inputId, outputId);\n",
       "  const outputElement = document.getElementById(outputId);\n",
       "  // Cache steps on the outputElement to make it available for the next call\n",
       "  // to uploadFilesContinue from Python.\n",
       "  outputElement.steps = steps;\n",
       "\n",
       "  return _uploadFilesContinue(outputId);\n",
       "}\n",
       "\n",
       "// This is roughly an async generator (not supported in the browser yet),\n",
       "// where there are multiple asynchronous steps and the Python side is going\n",
       "// to poll for completion of each step.\n",
       "// This uses a Promise to block the python side on completion of each step,\n",
       "// then passes the result of the previous step as the input to the next step.\n",
       "function _uploadFilesContinue(outputId) {\n",
       "  const outputElement = document.getElementById(outputId);\n",
       "  const steps = outputElement.steps;\n",
       "\n",
       "  const next = steps.next(outputElement.lastPromiseValue);\n",
       "  return Promise.resolve(next.value.promise).then((value) => {\n",
       "    // Cache the last promise value to make it available to the next\n",
       "    // step of the generator.\n",
       "    outputElement.lastPromiseValue = value;\n",
       "    return next.value.response;\n",
       "  });\n",
       "}\n",
       "\n",
       "/**\n",
       " * Generator function which is called between each async step of the upload\n",
       " * process.\n",
       " * @param {string} inputId Element ID of the input file picker element.\n",
       " * @param {string} outputId Element ID of the output display.\n",
       " * @return {!Iterable<!Object>} Iterable of next steps.\n",
       " */\n",
       "function* uploadFilesStep(inputId, outputId) {\n",
       "  const inputElement = document.getElementById(inputId);\n",
       "  inputElement.disabled = false;\n",
       "\n",
       "  const outputElement = document.getElementById(outputId);\n",
       "  outputElement.innerHTML = '';\n",
       "\n",
       "  const pickedPromise = new Promise((resolve) => {\n",
       "    inputElement.addEventListener('change', (e) => {\n",
       "      resolve(e.target.files);\n",
       "    });\n",
       "  });\n",
       "\n",
       "  const cancel = document.createElement('button');\n",
       "  inputElement.parentElement.appendChild(cancel);\n",
       "  cancel.textContent = 'Cancel upload';\n",
       "  const cancelPromise = new Promise((resolve) => {\n",
       "    cancel.onclick = () => {\n",
       "      resolve(null);\n",
       "    };\n",
       "  });\n",
       "\n",
       "  // Wait for the user to pick the files.\n",
       "  const files = yield {\n",
       "    promise: Promise.race([pickedPromise, cancelPromise]),\n",
       "    response: {\n",
       "      action: 'starting',\n",
       "    }\n",
       "  };\n",
       "\n",
       "  cancel.remove();\n",
       "\n",
       "  // Disable the input element since further picks are not allowed.\n",
       "  inputElement.disabled = true;\n",
       "\n",
       "  if (!files) {\n",
       "    return {\n",
       "      response: {\n",
       "        action: 'complete',\n",
       "      }\n",
       "    };\n",
       "  }\n",
       "\n",
       "  for (const file of files) {\n",
       "    const li = document.createElement('li');\n",
       "    li.append(span(file.name, {fontWeight: 'bold'}));\n",
       "    li.append(span(\n",
       "        `(${file.type || 'n/a'}) - ${file.size} bytes, ` +\n",
       "        `last modified: ${\n",
       "            file.lastModifiedDate ? file.lastModifiedDate.toLocaleDateString() :\n",
       "                                    'n/a'} - `));\n",
       "    const percent = span('0% done');\n",
       "    li.appendChild(percent);\n",
       "\n",
       "    outputElement.appendChild(li);\n",
       "\n",
       "    const fileDataPromise = new Promise((resolve) => {\n",
       "      const reader = new FileReader();\n",
       "      reader.onload = (e) => {\n",
       "        resolve(e.target.result);\n",
       "      };\n",
       "      reader.readAsArrayBuffer(file);\n",
       "    });\n",
       "    // Wait for the data to be ready.\n",
       "    let fileData = yield {\n",
       "      promise: fileDataPromise,\n",
       "      response: {\n",
       "        action: 'continue',\n",
       "      }\n",
       "    };\n",
       "\n",
       "    // Use a chunked sending to avoid message size limits. See b/62115660.\n",
       "    let position = 0;\n",
       "    do {\n",
       "      const length = Math.min(fileData.byteLength - position, MAX_PAYLOAD_SIZE);\n",
       "      const chunk = new Uint8Array(fileData, position, length);\n",
       "      position += length;\n",
       "\n",
       "      const base64 = btoa(String.fromCharCode.apply(null, chunk));\n",
       "      yield {\n",
       "        response: {\n",
       "          action: 'append',\n",
       "          file: file.name,\n",
       "          data: base64,\n",
       "        },\n",
       "      };\n",
       "\n",
       "      let percentDone = fileData.byteLength === 0 ?\n",
       "          100 :\n",
       "          Math.round((position / fileData.byteLength) * 100);\n",
       "      percent.textContent = `${percentDone}% done`;\n",
       "\n",
       "    } while (position < fileData.byteLength);\n",
       "  }\n",
       "\n",
       "  // All done.\n",
       "  yield {\n",
       "    response: {\n",
       "      action: 'complete',\n",
       "    }\n",
       "  };\n",
       "}\n",
       "\n",
       "scope.google = scope.google || {};\n",
       "scope.google.colab = scope.google.colab || {};\n",
       "scope.google.colab._files = {\n",
       "  _uploadFiles,\n",
       "  _uploadFilesContinue,\n",
       "};\n",
       "})(self);\n",
       "</script> "
      ],
      "text/plain": [
       "<IPython.core.display.HTML object>"
      ]
     },
     "metadata": {},
     "output_type": "display_data"
    },
    {
     "name": "stdout",
     "output_type": "stream",
     "text": [
      "Saving foottraffic_video.avi to foottraffic_video.avi\n"
     ]
    }
   ],
   "source": [
    "from google.colab import files\n",
    "uploaded = files.upload()"
   ]
  },
  {
   "cell_type": "code",
   "execution_count": 13,
   "id": "PUwDIrHTLgtX",
   "metadata": {
    "colab": {
     "base_uri": "https://localhost:8080/",
     "height": 521,
     "resources": {
      "http://localhost:8080/foottraffic_video.avi": {
       "data": "",
       "headers": [
        [
         "content-length",
         "0"
        ]
       ],
       "ok": false,
       "status": 404,
       "status_text": ""
      }
     }
    },
    "collapsed": true,
    "editable": false,
    "id": "PUwDIrHTLgtX",
    "jupyter": {
     "outputs_hidden": true
    },
    "outputId": "9124a8f1-351d-46b4-a3a6-c7489550d5b0",
    "slideshow": {
     "slide_type": "slide"
    },
    "tags": []
   },
   "outputs": [
    {
     "data": {
      "text/html": [
       "\n",
       "    <video width=\"1020\" height=\"500\" controls>\n",
       "        <source src=\"foottraffic_video.avi\" type=\"video/mp4\">\n",
       "        Your browser does not support the video tag.\n",
       "    </video>\n",
       "    "
      ],
      "text/plain": [
       "<IPython.core.display.HTML object>"
      ]
     },
     "execution_count": 13,
     "metadata": {},
     "output_type": "execute_result"
    }
   ],
   "source": [
    "from IPython.display import HTML\n",
    "\n",
    "video_path = 'foottraffic_video.avi'\n",
    "\n",
    "def display_video(video_path):\n",
    "    video_tag = f'''\n",
    "    <video width=\"1020\" height=\"500\" controls>\n",
    "        <source src=\"{video_path}\" type=\"video/mp4\">\n",
    "        Your browser does not support the video tag.\n",
    "    </video>\n",
    "    '''\n",
    "    return HTML(video_tag)\n",
    "\n",
    "# Display the video\n",
    "display_video(video_path)\n"
   ]
  }
 ],
 "metadata": {
  "colab": {
   "provenance": []
  },
  "kernelspec": {
   "display_name": "Python 3 (ipykernel)",
   "language": "python",
   "name": "python3"
  },
  "language_info": {
   "codemirror_mode": {
    "name": "ipython",
    "version": 3
   },
   "file_extension": ".py",
   "mimetype": "text/x-python",
   "name": "python",
   "nbconvert_exporter": "python",
   "pygments_lexer": "ipython3",
   "version": "3.12.0"
  }
 },
 "nbformat": 4,
 "nbformat_minor": 5
}
